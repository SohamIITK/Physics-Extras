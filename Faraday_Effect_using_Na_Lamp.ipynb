{
 "cells": [
  {
   "cell_type": "code",
   "execution_count": 1,
   "metadata": {
    "id": "K5uW7kS9KylZ"
   },
   "outputs": [],
   "source": [
    "import numpy as np\n",
    "import matplotlib.pyplot as plt"
   ]
  },
  {
   "cell_type": "markdown",
   "metadata": {
    "id": "eAg9aMpp4iXJ"
   },
   "source": [
    "# A. Calibration of Galvanometer"
   ]
  },
  {
   "cell_type": "code",
   "execution_count": 2,
   "metadata": {
    "id": "BZ3XjoARK2UY"
   },
   "outputs": [],
   "source": [
    "t1 = np.array([10.2, 10.1, 2.8, 2.9, 5.5, 5.3, 1.3, 1.2])\n",
    "t3 = np.array([7.4, 7.3, 1.9, 2.0, 3.9, 3.8, 0.9, 0.9])"
   ]
  },
  {
   "cell_type": "code",
   "execution_count": 3,
   "metadata": {
    "colab": {
     "base_uri": "https://localhost:8080/"
    },
    "id": "fJzWUCiTLTlH",
    "outputId": "360ede3d-3791-41a9-843b-8f7a5580e520"
   },
   "outputs": [
    {
     "name": "stdout",
     "output_type": "stream",
     "text": [
      "[110.5 109.5  30.9  31.8  59.9  57.6  14.3  12.9]\n"
     ]
    }
   ],
   "source": [
    "d = t1*(t1/t3)**0.25 #d in cm\n",
    "\n",
    "print(np.round(10*d, 1)) # d in mm"
   ]
  },
  {
   "cell_type": "code",
   "execution_count": 4,
   "metadata": {
    "colab": {
     "base_uri": "https://localhost:8080/"
    },
    "id": "ii8OnO_ULuaU",
    "outputId": "adbf323c-fa9f-4d0b-d2f9-fcfb9f07d483"
   },
   "outputs": [
    {
     "name": "stdout",
     "output_type": "stream",
     "text": [
      "[2.97011101e-08 2.99670480e-08 2.66493230e-08 2.58348129e-08\n",
      " 2.69351362e-08 2.80289899e-08 2.33893919e-08 2.58506557e-08]\n"
     ]
    }
   ],
   "source": [
    "V = 1.5\n",
    "Re = 33000\n",
    "Rf = 48\n",
    "Rg = 115\n",
    "\n",
    "Res = (Re+ Rf)/(Re+Rf+Rg)\n",
    "C = np.array([219.6, 219.6, 55, 55, 108, 108, 22.3, 22.3])\n",
    "\n",
    "\n",
    "K = C*1e-9 *V * Res/d\n",
    "\n",
    "print(K)"
   ]
  },
  {
   "cell_type": "code",
   "execution_count": 5,
   "metadata": {
    "id": "KD47vI-RNKD6"
   },
   "outputs": [],
   "source": [
    "K = sum(K)/len(K)"
   ]
  },
  {
   "cell_type": "markdown",
   "metadata": {
    "id": "RN2JQmK94opB"
   },
   "source": [
    "Final Calibration Constant value in Coulomb/mm"
   ]
  },
  {
   "cell_type": "code",
   "execution_count": 6,
   "metadata": {
    "colab": {
     "base_uri": "https://localhost:8080/"
    },
    "id": "5RF0VYyhQFAv",
    "outputId": "370090dc-a75d-48f8-9f66-0143a8d71bcf"
   },
   "outputs": [
    {
     "data": {
      "text/plain": [
       "2.704455845722341e-08"
      ]
     },
     "execution_count": 6,
     "metadata": {},
     "output_type": "execute_result"
    }
   ],
   "source": [
    "K"
   ]
  },
  {
   "cell_type": "markdown",
   "metadata": {
    "id": "THhnErMb403r"
   },
   "source": [
    "# B. Measurement of magnetic field using flip coil\n",
    "\n",
    "First for forward current"
   ]
  },
  {
   "cell_type": "code",
   "execution_count": 7,
   "metadata": {
    "id": "3bWxUKZ8QGaj"
   },
   "outputs": [],
   "source": [
    "# B part\n",
    "add = 0.5 # offset\n",
    "\n",
    "# t1, t3 are im cm\n",
    "t1 = np.array([-0.1, -0.1, 0.2, 0.7, 1, 2, 2.5, 2.9, 2.5, 2.6, 3.2, 3.5, 5]) + add\n",
    "t3 = np.array([-0.4, -0.3, -0.1, 0.4, 0.5, 1.1, 1.7, 1.9, 1.6, 1.4, 1.7, 2.2, 3.4]) + add"
   ]
  },
  {
   "cell_type": "code",
   "execution_count": 8,
   "metadata": {
    "colab": {
     "base_uri": "https://localhost:8080/"
    },
    "id": "ap3jTZM7XlKi",
    "outputId": "8d15be52-3e9b-474f-aadc-7f36555eb597"
   },
   "outputs": [
    {
     "data": {
      "text/plain": [
       "array([0.56568542, 0.47568285, 0.80511432, 1.28948392, 1.66002288,\n",
       "       2.79508497, 3.24187226, 3.70933311, 3.27979534, 3.50359354,\n",
       "       4.21353383, 4.41300123, 5.99359247])"
      ]
     },
     "execution_count": 8,
     "metadata": {},
     "output_type": "execute_result"
    }
   ],
   "source": [
    "t1*(t1 / t3)**0.25 # deflection in cm"
   ]
  },
  {
   "cell_type": "code",
   "execution_count": 9,
   "metadata": {
    "colab": {
     "base_uri": "https://localhost:8080/"
    },
    "id": "bAZCom1aQ7Pr",
    "outputId": "359cd0e0-b245-4ecb-942e-a3b8c8470844"
   },
   "outputs": [
    {
     "name": "stdout",
     "output_type": "stream",
     "text": [
      "[ 5.7  4.8  8.1 12.9 16.6 28.  32.4 37.1 32.8 35.  42.1 44.1 59.9]\n"
     ]
    }
   ],
   "source": [
    "defl= t1*(t1/t3)**0.25 * 10 #defl is in mm\n",
    "\n",
    "print(np.round(defl, 1)) # defl values in mm are printed"
   ]
  },
  {
   "cell_type": "code",
   "execution_count": 10,
   "metadata": {
    "colab": {
     "base_uri": "https://localhost:8080/"
    },
    "id": "F6-3GkoGR2G-",
    "outputId": "76bb5423-b3ce-4842-aed9-0eddd5d10c2e"
   },
   "outputs": [
    {
     "data": {
      "text/plain": [
       "array([ 5.65685425,  4.75682846,  8.05114322, 12.89483918, 16.6002288 ,\n",
       "       27.95084972, 32.41872259, 37.09333108, 32.79795342, 35.03593541,\n",
       "       42.13533827, 44.13001226, 59.93592471])"
      ]
     },
     "execution_count": 10,
     "metadata": {},
     "output_type": "execute_result"
    }
   ],
   "source": [
    "NA = 214 # NA in cm^2\n",
    "NA = NA*1e-4 # NA in m^2\n",
    "\n",
    "defl # defl in now in mm as K is in C/mm"
   ]
  },
  {
   "cell_type": "code",
   "execution_count": 11,
   "metadata": {
    "colab": {
     "base_uri": "https://localhost:8080/"
    },
    "id": "ywXXfX_PTMFr",
    "outputId": "5f67dbe8-a98b-406b-c97e-aa75c07b0670"
   },
   "outputs": [
    {
     "name": "stdout",
     "output_type": "stream",
     "text": [
      "33163 ohm\n"
     ]
    }
   ],
   "source": [
    "R = Re + Rf + Rg\n",
    "print(R, \"ohm\")\n",
    "\n",
    "B = R*K*defl/(2*NA)"
   ]
  },
  {
   "cell_type": "code",
   "execution_count": 12,
   "metadata": {
    "colab": {
     "base_uri": "https://localhost:8080/"
    },
    "id": "Q1XSUnsaV6Rt",
    "outputId": "4dd3776a-3d3b-42a1-ed6d-621d3519033e"
   },
   "outputs": [
    {
     "data": {
      "text/plain": [
       "array([0.11854   , 0.09967986, 0.16871259, 0.27021277, 0.34785961,\n",
       "       0.58571312, 0.67933789, 0.77729482, 0.68728471, 0.73418187,\n",
       "       0.88295063, 0.92474924, 1.25596387])"
      ]
     },
     "execution_count": 12,
     "metadata": {},
     "output_type": "execute_result"
    }
   ],
   "source": [
    "33163*K*defl/(2*NA)"
   ]
  },
  {
   "cell_type": "markdown",
   "metadata": {
    "id": "EEKzOTLg5Ai3"
   },
   "source": [
    "Final results of magnetic field in forward current"
   ]
  },
  {
   "cell_type": "code",
   "execution_count": 13,
   "metadata": {
    "colab": {
     "base_uri": "https://localhost:8080/"
    },
    "id": "hKOn8AlaTbdn",
    "outputId": "b8aa68f4-604c-42e4-b383-6b3bb3619f58"
   },
   "outputs": [
    {
     "data": {
      "text/plain": [
       "array([ 118.5,   99.7,  168.7,  270.2,  347.9,  585.7,  679.3,  777.3,\n",
       "        687.3,  734.2,  883. ,  924.7, 1256. ])"
      ]
     },
     "execution_count": 13,
     "metadata": {},
     "output_type": "execute_result"
    }
   ],
   "source": [
    "B=B*1e8\n",
    "np.round(B/1e5, 1)"
   ]
  },
  {
   "cell_type": "code",
   "execution_count": 14,
   "metadata": {
    "id": "aio5nxOIZSh1"
   },
   "outputs": [],
   "source": [
    "I = np.array([0.11, 0.20, 0.29, 0.39, 0.49, 0.6, 0.7, 0.81, 0.91, 1.00, 1.09, 1.20, 1.29])"
   ]
  },
  {
   "cell_type": "markdown",
   "metadata": {
    "id": "e-WEfPlx499T"
   },
   "source": [
    "Now for reverse current"
   ]
  },
  {
   "cell_type": "code",
   "execution_count": 15,
   "metadata": {
    "colab": {
     "base_uri": "https://localhost:8080/"
    },
    "id": "bhS7_gnukRgH",
    "outputId": "2e4b6a1d-cd2d-493f-a35b-2b6e81ced1f3"
   },
   "outputs": [
    {
     "name": "stdout",
     "output_type": "stream",
     "text": [
      "[ 8.65151642 11.91155224 18.54666554 22.84290342 28.50352412 33.77508472\n",
      " 40.41185798 45.68580685 51.34448918 58.57685465 62.27712736 67.55016944\n",
      " 71.8464733 ] is deflection in mm for reverse current\n",
      "[0.18129348 0.24960788 0.38864741 0.47867555 0.59729447 0.7077606\n",
      " 0.84683491 0.95735109 1.0759294  1.22748441 1.30502403 1.41552121\n",
      " 1.50555072]\n"
     ]
    },
    {
     "data": {
      "text/plain": [
       "array([ 181.3,  249.6,  388.6,  478.7,  597.3,  707.8,  846.8,  957.4,\n",
       "       1075.9, 1227.5, 1305. , 1415.5, 1505.6])"
      ]
     },
     "execution_count": 15,
     "metadata": {},
     "output_type": "execute_result"
    }
   ],
   "source": [
    "# For reverse current\n",
    "theta1 = np.array([0.7, 1.1, 1.7, 2.1, 2.6, 3.1, 3.7, 4.2, 4.7, 5.4, 5.7, 6.2, 6.6])\n",
    "theta3 = np.array([0.3, 0.8, 1.2, 1.5, 1.8, 2.2, 2.6, 3.0, 3.3, 3.9, 4.0, 4.4, 4.7])\n",
    "\n",
    "def2 = theta1*(theta1/theta3)**0.25 * 10 #deflection (rev. current) is in mm\n",
    "print(def2, \"is deflection in mm for reverse current\")\n",
    "\n",
    "B2= R*K*def2/(2*NA)\n",
    "print(B2)\n",
    "B2=B2*1e8\n",
    "\n",
    "# Final results of magnetic field in reverse current\n",
    "np.round(B2/1e5, 1)"
   ]
  },
  {
   "cell_type": "markdown",
   "metadata": {
    "id": "QdIF_R3Q5VPi"
   },
   "source": [
    "## Plots of mag field vs forward and reverse current"
   ]
  },
  {
   "cell_type": "code",
   "execution_count": 16,
   "metadata": {
    "colab": {
     "base_uri": "https://localhost:8080/",
     "height": 472
    },
    "id": "fIkDs5uhZe0g",
    "outputId": "e82f0863-d3e0-427b-8e40-a3fdfda6d8d9"
   },
   "outputs": [
    {
     "data": {
      "image/png": "[encoded data removed]",
      "text/plain": [
       "<Figure size 640x480 with 1 Axes>"
      ]
     },
     "metadata": {},
     "output_type": "display_data"
    }
   ],
   "source": [
    "plt.plot(B/1e5, I)\n",
    "plt.xlabel(\"Magnetic Field B (G)\")\n",
    "plt.ylabel(\"Forward Current I (A)\")\n",
    "plt.title(\"Magnetic Field vs Current (Forward)\")\n",
    "plt.show()"
   ]
  },
  {
   "cell_type": "code",
   "execution_count": 17,
   "metadata": {
    "colab": {
     "base_uri": "https://localhost:8080/",
     "height": 472
    },
    "id": "WPGOo2mEugre",
    "outputId": "f12fdc7d-c36d-4f95-e3c5-aa8cb2d8aeb8"
   },
   "outputs": [
    {
     "data": {
      "image/png": "[encoded data removed]",
      "text/plain": [
       "<Figure size 640x480 with 1 Axes>"
      ]
     },
     "metadata": {},
     "output_type": "display_data"
    }
   ],
   "source": [
    "plt.plot(B2/1e5, I)\n",
    "plt.xlabel(\"Magnetic Field B (G)\")\n",
    "plt.ylabel(\"Reverse Current I (A)\")\n",
    "plt.title(\"Magnetic Field vs Current (Reverse)\")\n",
    "plt.show()"
   ]
  },
  {
   "cell_type": "code",
   "execution_count": null,
   "metadata": {
    "id": "2fdRhoQAuc1F"
   },
   "outputs": [],
   "source": []
  },
  {
   "cell_type": "markdown",
   "metadata": {
    "id": "bUxYNeLE5e6g"
   },
   "source": [
    "# Determination of Verdet Constant for the given glass blocks (light and dense flint)"
   ]
  },
  {
   "cell_type": "code",
   "execution_count": 18,
   "metadata": {
    "id": "midjx9Cy7DfC"
   },
   "outputs": [],
   "source": [
    "# Given data\n",
    "\n",
    "nl = 1.56 #ref index for light flint\n",
    "nd = 1.65 # ref index for extra dense flint\n",
    "L = 1.8 # length of the sample"
   ]
  },
  {
   "cell_type": "code",
   "execution_count": 19,
   "metadata": {
    "colab": {
     "base_uri": "https://localhost:8080/"
    },
    "id": "DgrMZMfvvqpz",
    "outputId": "625952f6-88cb-4e79-eaa0-ba25e71f9491"
   },
   "outputs": [
    {
     "data": {
      "text/plain": [
       "118.54000095281903"
      ]
     },
     "execution_count": 19,
     "metadata": {},
     "output_type": "execute_result"
    }
   ],
   "source": [
    "B[0]/1e5"
   ]
  },
  {
   "cell_type": "markdown",
   "metadata": {
    "id": "CFYgso6X5usQ"
   },
   "source": [
    "## Extra Dense Flint at different currents"
   ]
  },
  {
   "cell_type": "code",
   "execution_count": 20,
   "metadata": {
    "colab": {
     "base_uri": "https://localhost:8080/"
    },
    "id": "-TMXxc9sbloC",
    "outputId": "a279a051-018b-45be-8014-47c3b9d8492b"
   },
   "outputs": [
    {
     "name": "stdout",
     "output_type": "stream",
     "text": [
      "[9.49 7.68 7.68 4.65] * 10^(-4) is the V const for Dense flint at 0.9 A\n"
     ]
    }
   ],
   "source": [
    "# Dark Flint\n",
    "\n",
    "thi9 = np.array([122.8, 123.0, 123.0, 123.3])\n",
    "thf9 = np.array([127.5, 126.8, 126.8, 125.6])\n",
    "\n",
    "V = (thf9 - thi9)/(nl * L * (B[8] + B2[8])/1e5)\n",
    "print(np.round(V*1e4,2), \"* 10^(-4) is the V const for Dense flint at 0.9 A\")"
   ]
  },
  {
   "cell_type": "code",
   "execution_count": 21,
   "metadata": {
    "colab": {
     "base_uri": "https://localhost:8080/"
    },
    "id": "YhD44z0232rN",
    "outputId": "71060442-7e15-4322-d6d3-c5169f2c98d9"
   },
   "outputs": [
    {
     "data": {
      "text/plain": [
       "7.372091359770513"
      ]
     },
     "execution_count": 21,
     "metadata": {},
     "output_type": "execute_result"
    }
   ],
   "source": [
    "np.average(V*1e4)"
   ]
  },
  {
   "cell_type": "code",
   "execution_count": 22,
   "metadata": {
    "colab": {
     "base_uri": "https://localhost:8080/"
    },
    "id": "ysDbt96U7Q2K",
    "outputId": "8a87972a-9e0f-4000-add6-594a4b5525b3"
   },
   "outputs": [
    {
     "name": "stdout",
     "output_type": "stream",
     "text": [
      "[6.51 6.19 5.53 5.53] * 10^(-4) is the V const for Dense flint at 1.1 A\n"
     ]
    }
   ],
   "source": [
    "# Dark Flint\n",
    "\n",
    "thi11 = np.array([124.0, 123.7, 124.2, 123.6])\n",
    "thf11 = np.array([128.0, 127.5, 127.6, 127.0])\n",
    "\n",
    "V = (thf11 - thi11)/(nl * L * (B[10] + B2[10])/1e5)\n",
    "print(np.round(V*1e4,2), \"* 10^(-4) is the V const for Dense flint at 1.1 A\")"
   ]
  },
  {
   "cell_type": "code",
   "execution_count": 23,
   "metadata": {
    "colab": {
     "base_uri": "https://localhost:8080/"
    },
    "id": "jliEblta4B3s",
    "outputId": "49413b67-c3a6-4e71-cf81-dc6dba89c4bf"
   },
   "outputs": [
    {
     "data": {
      "text/plain": [
       "5.940916827410247"
      ]
     },
     "execution_count": 23,
     "metadata": {},
     "output_type": "execute_result"
    }
   ],
   "source": [
    "np.average(V*1e4)"
   ]
  },
  {
   "cell_type": "code",
   "execution_count": 24,
   "metadata": {
    "colab": {
     "base_uri": "https://localhost:8080/"
    },
    "id": "IA7-M7RiURBE",
    "outputId": "41733e78-95ba-4a25-dff7-1a198242b039"
   },
   "outputs": [
    {
     "name": "stdout",
     "output_type": "stream",
     "text": [
      "[4.64 4.64 5.67 5.67] * 10^(-4) is the V const for Dense flint at 1.3 A\n"
     ]
    }
   ],
   "source": [
    "# Dark Flint\n",
    "\n",
    "thi13 = np.array([124.9, 124.9, 124.8, 124.8])\n",
    "thf13 = np.array([128.5, 128.5, 129.2, 129.2])\n",
    "\n",
    "V = (thf13 - thi13)/(nl * L * (B[12] + B2[12])/1e5)\n",
    "print(np.around(V*1e4,2), \"* 10^(-4) is the V const for Dense flint at 1.3 A\")"
   ]
  },
  {
   "cell_type": "code",
   "execution_count": 25,
   "metadata": {
    "colab": {
     "base_uri": "https://localhost:8080/"
    },
    "id": "_BCeJQ5j4IUX",
    "outputId": "ff5ddd45-014e-4837-d5b8-b50152b6888a"
   },
   "outputs": [
    {
     "data": {
      "text/plain": [
       "5.158406281367446"
      ]
     },
     "execution_count": 25,
     "metadata": {},
     "output_type": "execute_result"
    }
   ],
   "source": [
    "np.average(V*1e4)"
   ]
  },
  {
   "cell_type": "markdown",
   "metadata": {
    "id": "vIH55rqe4Xlc"
   },
   "source": [
    "# Light Flint at differet currents"
   ]
  },
  {
   "cell_type": "code",
   "execution_count": 26,
   "metadata": {
    "colab": {
     "base_uri": "https://localhost:8080/"
    },
    "id": "zHw3PCmrzbhr",
    "outputId": "680d5b8e-29a6-47d0-b738-d1d7290fdeef"
   },
   "outputs": [
    {
     "name": "stdout",
     "output_type": "stream",
     "text": [
      "[4.39 6.3  5.92 5.92] * 10^(-4) is the V const for light flint at 0.9 A\n"
     ]
    }
   ],
   "source": [
    "# Light Flint\n",
    "\n",
    "dense_thi9 = np.array([124.9, 123.9, 123.9, 123.9])\n",
    "dense_thf9 = np.array([127.2, 127.2, 127.0, 127.0])\n",
    "\n",
    "V = (dense_thf9 - dense_thi9)/(nd * L * (B[8] + B2[8])/1e5)\n",
    "print(np.round(V*1e4,2), \"* 10^(-4) is the V const for light flint at 0.9 A\")"
   ]
  },
  {
   "cell_type": "code",
   "execution_count": 27,
   "metadata": {
    "colab": {
     "base_uri": "https://localhost:8080/"
    },
    "id": "MOEnvva-4LJ-",
    "outputId": "5c84d56c-0137-4282-e20d-e82970c282a8"
   },
   "outputs": [
    {
     "data": {
      "text/plain": [
       "5.633269313020152"
      ]
     },
     "execution_count": 27,
     "metadata": {},
     "output_type": "execute_result"
    }
   ],
   "source": [
    "np.average(V*1e4)"
   ]
  },
  {
   "cell_type": "code",
   "execution_count": 28,
   "metadata": {
    "colab": {
     "base_uri": "https://localhost:8080/"
    },
    "id": "RbFr-kWg0Kym",
    "outputId": "60adae6c-0cb9-4bf4-80d5-d350488dfa65"
   },
   "outputs": [
    {
     "name": "stdout",
     "output_type": "stream",
     "text": [
      "[6.31 5.69 3.85 6.46] * 10^(-4) is the V const for light flint at 1.1 A\n"
     ]
    }
   ],
   "source": [
    "# Light Flint\n",
    "\n",
    "dense_thf11 = np.array([129.4, 128.3, 127.4, 128.8])\n",
    "dense_thi11 = np.array([125.3, 124.6, 124.9, 124.6])\n",
    "\n",
    "V = (dense_thf11 - dense_thi11)/(nd * L * (B[10] + B2[10])/1e5)\n",
    "print(np.round(V*1e4,2), \"* 10^(-4) is the V const for light flint at 1.1 A\")"
   ]
  },
  {
   "cell_type": "code",
   "execution_count": 29,
   "metadata": {
    "colab": {
     "base_uri": "https://localhost:8080/"
    },
    "id": "DhCGMwGk4PUs",
    "outputId": "f57fe965-be9e-4b4e-b5a0-ca657e80a242"
   },
   "outputs": [
    {
     "data": {
      "text/plain": [
       "5.578395128103788"
      ]
     },
     "execution_count": 29,
     "metadata": {},
     "output_type": "execute_result"
    }
   ],
   "source": [
    "np.average(V*1e4)"
   ]
  },
  {
   "cell_type": "code",
   "execution_count": 30,
   "metadata": {
    "colab": {
     "base_uri": "https://localhost:8080/"
    },
    "id": "xdoKfvAl0LC3",
    "outputId": "15da0f78-e5ea-4139-caec-76663d04942a"
   },
   "outputs": [
    {
     "name": "stdout",
     "output_type": "stream",
     "text": [
      "[2.8  4.02 3.78 3.78] * 10^(-4) is the V const for light flint at 1.3 A\n"
     ]
    }
   ],
   "source": [
    "# Light Flint\n",
    "\n",
    "dense_thi13 = np.array([125.8, 125.8, 125.7, 125.7])\n",
    "dense_thf13 = np.array([130.0, 128.9, 128.9, 130.0])\n",
    "\n",
    "V = (dense_thf9 - dense_thi9)/(nd * L * (B[12] + B2[12])/1e5)\n",
    "print(np.round(V*1e4,2), \"* 10^(-4) is the V const for light flint at 1.3 A\")"
   ]
  },
  {
   "cell_type": "code",
   "execution_count": 31,
   "metadata": {
    "colab": {
     "base_uri": "https://localhost:8080/"
    },
    "id": "Su8R_0GH4Si2",
    "outputId": "2cfb46c3-e899-4f19-e399-dfb691b37b19"
   },
   "outputs": [
    {
     "data": {
      "text/plain": [
       "3.5968160161898477"
      ]
     },
     "execution_count": 31,
     "metadata": {},
     "output_type": "execute_result"
    }
   ],
   "source": [
    "np.average(V*1e4)"
   ]
  },
  {
   "cell_type": "code",
   "execution_count": 32,
   "metadata": {},
   "outputs": [
    {
     "name": "stdout",
     "output_type": "stream",
     "text": [
      "Defaulting to user installation because normal site-packages is not writeable\n",
      "Requirement already satisfied: nbconvert[webpdf] in /private/var/containers/Bundle/Application/EBF4CC89-28CD-44A4-A2D9-8639D6062E24/Carnets-sci.app/Library/lib/python3.11/site-packages (7.14.2)\n",
      "Requirement already satisfied: beautifulsoup4 in /private/var/containers/Bundle/Application/EBF4CC89-28CD-44A4-A2D9-8639D6062E24/Carnets-sci.app/Library/lib/python3.11/site-packages (from nbconvert[webpdf]) (4.12.3)\n",
      "Requirement already satisfied: bleach!=5.0.0 in /private/var/containers/Bundle/Application/EBF4CC89-28CD-44A4-A2D9-8639D6062E24/Carnets-sci.app/Library/lib/python3.11/site-packages (from nbconvert[webpdf]) (6.1.0)\n",
      "Requirement already satisfied: defusedxml in /private/var/containers/Bundle/Application/EBF4CC89-28CD-44A4-A2D9-8639D6062E24/Carnets-sci.app/Library/lib/python3.11/site-packages (from nbconvert[webpdf]) (0.7.1)\n",
      "Requirement already satisfied: jinja2>=3.0 in /private/var/containers/Bundle/Application/EBF4CC89-28CD-44A4-A2D9-8639D6062E24/Carnets-sci.app/Library/lib/python3.11/site-packages (from nbconvert[webpdf]) (3.1.3)\n",
      "Requirement already satisfied: jupyter-core>=4.7 in /private/var/containers/Bundle/Application/EBF4CC89-28CD-44A4-A2D9-8639D6062E24/Carnets-sci.app/Library/lib/python3.11/site-packages (from nbconvert[webpdf]) (5.7.1)\n",
      "Requirement already satisfied: jupyterlab-pygments in /private/var/containers/Bundle/Application/EBF4CC89-28CD-44A4-A2D9-8639D6062E24/Carnets-sci.app/Library/lib/python3.11/site-packages (from nbconvert[webpdf]) (0.3.0)\n",
      "Requirement already satisfied: markupsafe>=2.0 in /private/var/containers/Bundle/Application/EBF4CC89-28CD-44A4-A2D9-8639D6062E24/Carnets-sci.app/Library/lib/python3.11/site-packages (from nbconvert[webpdf]) (2.1.1)\n",
      "Requirement already satisfied: mistune<4,>=2.0.3 in /private/var/containers/Bundle/Application/EBF4CC89-28CD-44A4-A2D9-8639D6062E24/Carnets-sci.app/Library/lib/python3.11/site-packages (from nbconvert[webpdf]) (3.0.2)\n",
      "Requirement already satisfied: nbclient>=0.5.0 in /private/var/containers/Bundle/Application/EBF4CC89-28CD-44A4-A2D9-8639D6062E24/Carnets-sci.app/Library/lib/python3.11/site-packages (from nbconvert[webpdf]) (0.9.0)\n",
      "Requirement already satisfied: nbformat>=5.7 in /private/var/containers/Bundle/Application/EBF4CC89-28CD-44A4-A2D9-8639D6062E24/Carnets-sci.app/Library/lib/python3.11/site-packages (from nbconvert[webpdf]) (5.9.2)\n",
      "Requirement already satisfied: packaging in /private/var/containers/Bundle/Application/EBF4CC89-28CD-44A4-A2D9-8639D6062E24/Carnets-sci.app/Library/lib/python3.11/site-packages (from nbconvert[webpdf]) (23.2)\n",
      "Requirement already satisfied: pandocfilters>=1.4.1 in /private/var/containers/Bundle/Application/EBF4CC89-28CD-44A4-A2D9-8639D6062E24/Carnets-sci.app/Library/lib/python3.11/site-packages (from nbconvert[webpdf]) (1.5.0)\n",
      "Requirement already satisfied: pygments>=2.4.1 in /private/var/containers/Bundle/Application/EBF4CC89-28CD-44A4-A2D9-8639D6062E24/Carnets-sci.app/Library/lib/python3.11/site-packages (from nbconvert[webpdf]) (2.17.2)\n",
      "Requirement already satisfied: tinycss2 in /private/var/containers/Bundle/Application/EBF4CC89-28CD-44A4-A2D9-8639D6062E24/Carnets-sci.app/Library/lib/python3.11/site-packages (from nbconvert[webpdf]) (1.2.1)\n",
      "Requirement already satisfied: traitlets>=5.1 in /private/var/containers/Bundle/Application/EBF4CC89-28CD-44A4-A2D9-8639D6062E24/Carnets-sci.app/Library/lib/python3.11/site-packages (from nbconvert[webpdf]) (5.14.1)\n",
      "INFO: pip is looking at multiple versions of nbconvert[webpdf] to determine which version is compatible with other requirements. This could take a while.\n",
      "Collecting nbconvert[webpdf]\n",
      "  Downloading nbconvert-7.16.4-py3-none-any.whl.metadata (8.5 kB)\n",
      "  Downloading nbconvert-7.16.3-py3-none-any.whl.metadata (8.2 kB)\n",
      "  Downloading nbconvert-7.16.2-py3-none-any.whl.metadata (8.0 kB)\n",
      "  Downloading nbconvert-7.16.1-py3-none-any.whl.metadata (8.0 kB)\n",
      "  Downloading nbconvert-7.16.0-py3-none-any.whl.metadata (7.7 kB)\n",
      "  Downloading nbconvert-7.15.0-py3-none-any.whl.metadata (7.7 kB)\n",
      "  Downloading nbconvert-7.14.1-py3-none-any.whl.metadata (7.7 kB)\n",
      "INFO: pip is still looking at multiple versions of nbconvert[webpdf] to determine which version is compatible with other requirements. This could take a while.\n",
      "  Downloading nbconvert-7.14.0-py3-none-any.whl.metadata (7.7 kB)\n",
      "  Downloading nbconvert-7.13.1-py3-none-any.whl.metadata (7.7 kB)\n",
      "  Downloading nbconvert-7.13.0-py3-none-any.whl.metadata (7.7 kB)\n",
      "  Downloading nbconvert-7.12.0-py3-none-any.whl.metadata (7.7 kB)\n",
      "  Downloading nbconvert-7.11.0-py3-none-any.whl.metadata (7.7 kB)\n",
      "INFO: This is taking longer than usual. You might need to provide the dependency resolver with stricter constraints to reduce runtime. See https://pip.pypa.io/warnings/backtracking for guidance. If you want to abort this run, press Ctrl + C.\n",
      "  Downloading nbconvert-7.10.0-py3-none-any.whl.metadata (7.8 kB)\n",
      "  Downloading nbconvert-7.9.2-py3-none-any.whl.metadata (7.9 kB)\n",
      "  Downloading nbconvert-7.9.1-py3-none-any.whl.metadata (7.9 kB)\n",
      "  Downloading nbconvert-7.9.0-py3-none-any.whl.metadata (7.9 kB)\n",
      "  Downloading nbconvert-7.8.0-py3-none-any.whl.metadata (8.0 kB)\n",
      "  Downloading nbconvert-7.7.4-py3-none-any.whl.metadata (8.0 kB)\n",
      "  Downloading nbconvert-7.7.3-py3-none-any.whl.metadata (8.0 kB)\n",
      "  Downloading nbconvert-7.7.2-py3-none-any.whl.metadata (8.0 kB)\n",
      "  Downloading nbconvert-7.7.1-py3-none-any.whl.metadata (8.0 kB)\n",
      "  Downloading nbconvert-7.7.0-py3-none-any.whl.metadata (8.0 kB)\n",
      "  Downloading nbconvert-7.6.0-py3-none-any.whl.metadata (7.9 kB)\n",
      "Collecting pyppeteer<1.1,>=1 (from nbconvert[webpdf])\n",
      "  Downloading pyppeteer-1.0.2-py3-none-any.whl.metadata (6.9 kB)\n",
      "Requirement already satisfied: six>=1.9.0 in /private/var/containers/Bundle/Application/EBF4CC89-28CD-44A4-A2D9-8639D6062E24/Carnets-sci.app/Library/lib/python3.11/site-packages (from bleach!=5.0.0->nbconvert[webpdf]) (1.16.0)\n",
      "Requirement already satisfied: webencodings in /private/var/containers/Bundle/Application/EBF4CC89-28CD-44A4-A2D9-8639D6062E24/Carnets-sci.app/Library/lib/python3.11/site-packages (from bleach!=5.0.0->nbconvert[webpdf]) (0.5.1)\n",
      "Requirement already satisfied: platformdirs>=2.5 in /private/var/containers/Bundle/Application/EBF4CC89-28CD-44A4-A2D9-8639D6062E24/Carnets-sci.app/Library/lib/python3.11/site-packages (from jupyter-core>=4.7->nbconvert[webpdf]) (4.1.0)\n",
      "Requirement already satisfied: jupyter-client>=6.1.12 in /private/var/containers/Bundle/Application/EBF4CC89-28CD-44A4-A2D9-8639D6062E24/Carnets-sci.app/Library/lib/python3.11/site-packages (from nbclient>=0.5.0->nbconvert[webpdf]) (7.4.9)\n",
      "Requirement already satisfied: fastjsonschema in /private/var/containers/Bundle/Application/EBF4CC89-28CD-44A4-A2D9-8639D6062E24/Carnets-sci.app/Library/lib/python3.11/site-packages (from nbformat>=5.7->nbconvert[webpdf]) (2.19.1)\n",
      "Requirement already satisfied: jsonschema>=2.6 in /private/var/containers/Bundle/Application/EBF4CC89-28CD-44A4-A2D9-8639D6062E24/Carnets-sci.app/Library/lib/python3.11/site-packages (from nbformat>=5.7->nbconvert[webpdf]) (4.17.3)\n",
      "Collecting appdirs<2.0.0,>=1.4.3 (from pyppeteer<1.1,>=1->nbconvert[webpdf])\n",
      "  Downloading appdirs-1.4.4-py2.py3-none-any.whl.metadata (9.0 kB)\n",
      "Requirement already satisfied: certifi>=2021 in /private/var/containers/Bundle/Application/EBF4CC89-28CD-44A4-A2D9-8639D6062E24/Carnets-sci.app/Library/lib/python3.11/site-packages (from pyppeteer<1.1,>=1->nbconvert[webpdf]) (2023.11.17)\n",
      "Collecting importlib-metadata>=1.4 (from pyppeteer<1.1,>=1->nbconvert[webpdf])\n",
      "  Downloading importlib_metadata-8.5.0-py3-none-any.whl.metadata (4.8 kB)\n",
      "Collecting pyee<9.0.0,>=8.1.0 (from pyppeteer<1.1,>=1->nbconvert[webpdf])\n",
      "  Downloading pyee-8.2.2-py2.py3-none-any.whl.metadata (1.7 kB)\n",
      "Requirement already satisfied: tqdm<5.0.0,>=4.42.1 in /private/var/containers/Bundle/Application/EBF4CC89-28CD-44A4-A2D9-8639D6062E24/Carnets-sci.app/Library/lib/python3.11/site-packages (from pyppeteer<1.1,>=1->nbconvert[webpdf]) (4.66.1)\n",
      "Collecting urllib3<2.0.0,>=1.25.8 (from pyppeteer<1.1,>=1->nbconvert[webpdf])\n",
      "  Downloading urllib3-1.26.20-py2.py3-none-any.whl.metadata (50 kB)\n",
      "     ━━━━━━━━━━━━━━━━━━━━━━━━━━━━━━━━━━━━━━━━ 50.1/50.1 kB 1.9 MB/s eta 0:00:00\n",
      "Collecting websockets<11.0,>=10.0 (from pyppeteer<1.1,>=1->nbconvert[webpdf])\n",
      "  Downloading websockets-10.4-cp311-cp311-macosx_10_9_universal2.whl.metadata (6.4 kB)\n",
      "Requirement already satisfied: soupsieve>1.2 in /private/var/containers/Bundle/Application/EBF4CC89-28CD-44A4-A2D9-8639D6062E24/Carnets-sci.app/Library/lib/python3.11/site-packages (from beautifulsoup4->nbconvert[webpdf]) (2.5)\n",
      "Collecting zipp>=3.20 (from importlib-metadata>=1.4->pyppeteer<1.1,>=1->nbconvert[webpdf])\n",
      "  Downloading zipp-3.20.2-py3-none-any.whl.metadata (3.7 kB)\n",
      "Requirement already satisfied: attrs>=17.4.0 in /private/var/containers/Bundle/Application/EBF4CC89-28CD-44A4-A2D9-8639D6062E24/Carnets-sci.app/Library/lib/python3.11/site-packages (from jsonschema>=2.6->nbformat>=5.7->nbconvert[webpdf]) (23.2.0)\n",
      "Requirement already satisfied: pyrsistent!=0.17.0,!=0.17.1,!=0.17.2,>=0.14.0 in /private/var/containers/Bundle/Application/EBF4CC89-28CD-44A4-A2D9-8639D6062E24/Carnets-sci.app/Library/lib/python3.11/site-packages (from jsonschema>=2.6->nbformat>=5.7->nbconvert[webpdf]) (0.20.0)\n",
      "Requirement already satisfied: entrypoints in /private/var/containers/Bundle/Application/EBF4CC89-28CD-44A4-A2D9-8639D6062E24/Carnets-sci.app/Library/lib/python3.11/site-packages (from jupyter-client>=6.1.12->nbclient>=0.5.0->nbconvert[webpdf]) (0.4)\n",
      "Requirement already satisfied: nest-asyncio>=1.5.4 in /private/var/containers/Bundle/Application/EBF4CC89-28CD-44A4-A2D9-8639D6062E24/Carnets-sci.app/Library/lib/python3.11/site-packages (from jupyter-client>=6.1.12->nbclient>=0.5.0->nbconvert[webpdf]) (1.5.9)\n",
      "Requirement already satisfied: python-dateutil>=2.8.2 in /private/var/containers/Bundle/Application/EBF4CC89-28CD-44A4-A2D9-8639D6062E24/Carnets-sci.app/Library/lib/python3.11/site-packages (from jupyter-client>=6.1.12->nbclient>=0.5.0->nbconvert[webpdf]) (2.8.2)\n",
      "Requirement already satisfied: pyzmq>=23.0 in /private/var/containers/Bundle/Application/EBF4CC89-28CD-44A4-A2D9-8639D6062E24/Carnets-sci.app/Library/lib/python3.11/site-packages (from jupyter-client>=6.1.12->nbclient>=0.5.0->nbconvert[webpdf]) (25.1.1)\n",
      "Requirement already satisfied: tornado>=6.2 in /private/var/containers/Bundle/Application/EBF4CC89-28CD-44A4-A2D9-8639D6062E24/Carnets-sci.app/Library/lib/python3.11/site-packages (from jupyter-client>=6.1.12->nbclient>=0.5.0->nbconvert[webpdf]) (6.4)\n",
      "Downloading pyppeteer-1.0.2-py3-none-any.whl (83 kB)\n",
      "   ━━━━━━━━━━━━━━━━━━━━━━━━━━━━━━━━━━━━━━━━ 83.4/83.4 kB 6.8 MB/s eta 0:00:00\n",
      "Downloading nbconvert-7.6.0-py3-none-any.whl (290 kB)\n",
      "   ━━━━━━━━━━━━━━━━━━━━━━━━━━━━━━━━━━━━━━━━ 290.4/290.4 kB 9.2 MB/s eta 0:00:00\n",
      "Downloading appdirs-1.4.4-py2.py3-none-any.whl (9.6 kB)\n",
      "Downloading importlib_metadata-8.5.0-py3-none-any.whl (26 kB)\n",
      "Downloading pyee-8.2.2-py2.py3-none-any.whl (12 kB)\n",
      "Downloading urllib3-1.26.20-py2.py3-none-any.whl (144 kB)\n",
      "   ━━━━━━━━━━━━━━━━━━━━━━━━━━━━━━━━━━━━━━━━ 144.2/144.2 kB 11.1 MB/s eta 0:00:00\n",
      "Downloading websockets-10.4-cp311-cp311-macosx_10_9_universal2.whl (100 kB)\n",
      "   ━━━━━━━━━━━━━━━━━━━━━━━━━━━━━━━━━━━━━━━━ 100.7/100.7 kB 17.4 MB/s eta 0:00:00\n",
      "Downloading zipp-3.20.2-py3-none-any.whl (9.2 kB)\n",
      "Installing collected packages: pyee, appdirs, zipp, websockets, urllib3, importlib-metadata, pyppeteer, nbconvert\n",
      "Successfully installed appdirs-1.4.4 importlib-metadata-8.5.0 nbconvert-7.6.0 pyee-8.2.2 pyppeteer-1.0.2 urllib3-1.26.20 websockets-10.4 zipp-3.20.2\n",
      "\r"
     ]
    },
    {
     "name": "stderr",
     "output_type": "stream",
     "text": [
      "\n",
      "[notice] A new release of pip is available: 24.0 -> 24.2\n",
      "[notice] To update, run: pip install --upgrade pip\n",
      "\r"
     ]
    },
    {
     "name": "stdout",
     "output_type": "stream",
     "text": [
      "Note: you may need to restart the kernel to use updated packages.\n"
     ]
    }
   ],
   "source": [
    "pip install nbconvert[webpdf]"
   ]
  },
  {
   "cell_type": "code",
   "execution_count": null,
   "metadata": {},
   "outputs": [],
   "source": []
  }
 ],
 "metadata": {
  "colab": {
   "provenance": []
  },
  "kernelspec": {
   "display_name": "Python 3 (ipykernel)",
   "language": "python",
   "name": "python3"
  },
  "language_info": {
   "codemirror_mode": {
    "name": "ipython",
    "version": 3
   },
   "file_extension": ".py",
   "mimetype": "text/x-python",
   "name": "python",
   "nbconvert_exporter": "python",
   "pygments_lexer": "ipython3",
   "version": "3.11.0"
  }
 },
 "nbformat": 4,
 "nbformat_minor": 4
}
