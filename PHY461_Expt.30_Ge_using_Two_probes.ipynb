{
  "nbformat": 4,
  "nbformat_minor": 0,
  "metadata": {
    "colab": {
      "provenance": [],
      "authorship_tag": "ABX9TyODWmDbfr0acQ9NqT5zdgLN",
      "include_colab_link": true
    },
    "kernelspec": {
      "name": "python3",
      "display_name": "Python 3"
    },
    "language_info": {
      "name": "python"
    }
  },
  "cells": [
    {
      "cell_type": "markdown",
      "metadata": {
        "id": "view-in-github",
        "colab_type": "text"
      },
      "source": [
        "<a href=\"https://colab.research.google.com/github/SohamIITK/Physics-Extras/blob/main/PHY461_Expt.30_Ge_using_Two_probes.ipynb\" target=\"_parent\"><img src=\"https://colab.research.google.com/assets/colab-badge.svg\" alt=\"Open In Colab\"/></a>"
      ]
    },
    {
      "cell_type": "code",
      "execution_count": null,
      "metadata": {
        "id": "0i7MlW6gtvef"
      },
      "outputs": [],
      "source": [
        "import numpy as np\n",
        "\n",
        "l = 1e-3\n",
        "A = 2e-4"
      ]
    },
    {
      "cell_type": "code",
      "source": [
        "I = 10e-3\n",
        "T = np.array([25, 37, 49, 62, 74, 86, 98, 110, 122, 124, 125])\n",
        "T = T + 273\n",
        "print(T)\n",
        "print(np.round(1000/T, 3))"
      ],
      "metadata": {
        "colab": {
          "base_uri": "https://localhost:8080/"
        },
        "id": "xEdQ8jXDt_DX",
        "outputId": "b75b7e70-78d0-4ae0-994b-b13184f56bf8"
      },
      "execution_count": null,
      "outputs": [
        {
          "output_type": "stream",
          "name": "stdout",
          "text": [
            "[298 310 322 335 347 359 371 383 395 397 398]\n",
            "[3.356 3.226 3.106 2.985 2.882 2.786 2.695 2.611 2.532 2.519 2.513]\n"
          ]
        }
      ]
    },
    {
      "cell_type": "code",
      "source": [
        "V = np.array([2.353, 2.182, 1.964, 1.769, 1.502, 1.289, 1.120, 0.981, 0.623])\n",
        "\n",
        "cond = I*l/(V*A)\n",
        "print(np.round(cond,3))"
      ],
      "metadata": {
        "colab": {
          "base_uri": "https://localhost:8080/"
        },
        "id": "ZEBS6LeUuc_c",
        "outputId": "76e8b56f-4952-4afa-d04f-493c7d58389e"
      },
      "execution_count": null,
      "outputs": [
        {
          "output_type": "stream",
          "name": "stdout",
          "text": [
            "[0.011 0.011 0.013 0.014 0.017 0.019 0.022 0.025 0.04 ]\n"
          ]
        }
      ]
    },
    {
      "cell_type": "code",
      "source": [
        "V1 = np.array([0.746, 0.919, 1.416, 1.698, 2.018, 2.400, 2.814])\n",
        "\n",
        "cond1 = I*l/(V1*A)\n",
        "print(np.round(cond1,3))"
      ],
      "metadata": {
        "colab": {
          "base_uri": "https://localhost:8080/"
        },
        "id": "F8U_jQ_WxaK5",
        "outputId": "7aa2e17d-644c-4ad5-b169-9c7cacf5492c"
      },
      "execution_count": null,
      "outputs": [
        {
          "output_type": "stream",
          "name": "stdout",
          "text": [
            "[0.034 0.027 0.018 0.015 0.012 0.01  0.009]\n"
          ]
        }
      ]
    },
    {
      "cell_type": "code",
      "source": [
        "eg = 1.738 * 2000 * 1.38 * 10**-23\n",
        "eg = eg/(1.6e-19)\n",
        "print(eg)"
      ],
      "metadata": {
        "colab": {
          "base_uri": "https://localhost:8080/"
        },
        "id": "xjti8dJoKrZD",
        "outputId": "cb1abc90-2b84-48ea-d548-855f2b9120c9"
      },
      "execution_count": null,
      "outputs": [
        {
          "output_type": "stream",
          "name": "stdout",
          "text": [
            "0.29980499999999993\n"
          ]
        }
      ]
    }
  ]
}