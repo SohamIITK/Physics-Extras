{
  "nbformat": 4,
  "nbformat_minor": 0,
  "metadata": {
    "colab": {
      "provenance": [],
      "authorship_tag": "ABX9TyPenwb2Q5nJIucpu2yFabYf",
      "include_colab_link": true
    },
    "kernelspec": {
      "name": "python3",
      "display_name": "Python 3"
    },
    "language_info": {
      "name": "python"
    }
  },
  "cells": [
    {
      "cell_type": "markdown",
      "metadata": {
        "id": "view-in-github",
        "colab_type": "text"
      },
      "source": [
        "<a href=\"https://colab.research.google.com/github/SohamIITK/Physics-Extras/blob/main/PHY462_GM_Counter.ipynb\" target=\"_parent\"><img src=\"https://colab.research.google.com/assets/colab-badge.svg\" alt=\"Open In Colab\"/></a>"
      ]
    },
    {
      "cell_type": "code",
      "source": [
        "import numpy as np"
      ],
      "metadata": {
        "id": "snL0ttnSW5Sq"
      },
      "execution_count": null,
      "outputs": []
    },
    {
      "cell_type": "markdown",
      "source": [
        "Calculations"
      ],
      "metadata": {
        "id": "dfKuJM62Siw0"
      }
    },
    {
      "cell_type": "markdown",
      "source": [
        "### Dead Time"
      ],
      "metadata": {
        "id": "aKLOvIE7d7di"
      }
    },
    {
      "cell_type": "code",
      "execution_count": null,
      "metadata": {
        "colab": {
          "base_uri": "https://localhost:8080/"
        },
        "id": "29aW2jR1SfEb",
        "outputId": "89f48fa0-d6c0-400a-9bdc-128ce45f1145"
      },
      "outputs": [
        {
          "output_type": "stream",
          "name": "stdout",
          "text": [
            "X=  10.465275\n",
            "Y =  286.194049125\n",
            "Z =  0.7447391234686388\n"
          ]
        }
      ],
      "source": [
        "m1 = 27.215\n",
        "m2 = 0.51\n",
        "m12 = 27.315\n",
        "mb = 0.125\n",
        "\n",
        "X = m1*m2 - mb*m12\n",
        "Y = m1*m2*(m12 + mb) - mb*m12*(m1+m2)\n",
        "Z = Y*(m1 + m2 - m12 - mb)/X**2\n",
        "\n",
        "print(\"X= \", X)\n",
        "print(\"Y = \", Y)\n",
        "print(\"Z = \", Z)"
      ]
    },
    {
      "cell_type": "code",
      "source": [
        "dead_time = X*(1-np.sqrt(1-Z))/Y\n",
        "print(\"Dead Time is\", dead_time)"
      ],
      "metadata": {
        "colab": {
          "base_uri": "https://localhost:8080/"
        },
        "id": "5UArCIRle5et",
        "outputId": "01968d81-377b-47f3-9e9b-998074ccf03d"
      },
      "execution_count": null,
      "outputs": [
        {
          "output_type": "stream",
          "name": "stdout",
          "text": [
            "Dead Time is 0.018092156820391902\n"
          ]
        }
      ]
    },
    {
      "cell_type": "markdown",
      "source": [
        "## Poisson Stats (Background Counts)"
      ],
      "metadata": {
        "id": "bNNCc-k-Sly3"
      }
    },
    {
      "cell_type": "code",
      "source": [
        "y = np.array([0, 1, 2, 3, 4, 5, 6, 7 , 8, 9, 10, 11, 12])\n",
        "fy = np.array([4, 4, 35, 39, 56, 27, 23, 12, 1, 4, 0, 2, 1])\n",
        "\n",
        "\n",
        "print(np.sum(fy))"
      ],
      "metadata": {
        "colab": {
          "base_uri": "https://localhost:8080/"
        },
        "id": "hWZMhc2CSpMt",
        "outputId": "b200ab65-8034-4e24-85ea-448cc3e823b1"
      },
      "execution_count": null,
      "outputs": [
        {
          "output_type": "stream",
          "name": "stdout",
          "text": [
            "208\n"
          ]
        }
      ]
    },
    {
      "cell_type": "code",
      "source": [
        "y_bar = np.sum(y*fy)/np.sum(fy)\n",
        "print(\"Mean is \", y_bar)\n",
        "\n",
        "for x in range(0, len(y)):\n",
        "    probs = (y_bar**y[x] * np.exp(-y_bar))/math.factorial(x)\n",
        "    print(\"Prob. for y = \", y[x], \"is\", probs)\n",
        "# probs = (y_bar**y * np.exp(-y_bar))/math.factorial(x)\n",
        "# print(probs)\n",
        "\n",
        "std_dev_bg = np.sqrt(y_bar)  # theoretical std. dev (Poisson)\n",
        "print(\"Std. Dev for BG counts = \", std_dev_bg)"
      ],
      "metadata": {
        "colab": {
          "base_uri": "https://localhost:8080/"
        },
        "id": "wcK4k5DmgQ30",
        "outputId": "bba9aa1f-c651-4153-cb2a-7f2aab0dad3d"
      },
      "execution_count": null,
      "outputs": [
        {
          "output_type": "stream",
          "name": "stdout",
          "text": [
            "Mean is  4.086538461538462\n",
            "Prob. for y =  0 is 0.016797277462004382\n",
            "Prob. for y =  1 is 0.06864272039761406\n",
            "Prob. for y =  2 is 0.14025555850474028\n",
            "Prob. for y =  3 is 0.19105324475805965\n",
            "Prob. for y =  4 is 0.19518660822638312\n",
            "Prob. for y =  5 is 0.15952751633887083\n",
            "Prob. for y =  6 is 0.10865255519875015\n",
            "Prob. for y =  7 is 0.06343040653773188\n",
            "Prob. for y =  8 is 0.032401349493432756\n",
            "Prob. for y =  9 is 0.014712151212295858\n",
            "Prob. for y =  10 is 0.006012177178101673\n",
            "Prob. for y =  11 is 0.002233544843263296\n",
            "Prob. for y =  12 is 0.0007606222422971963\n",
            "Std. Dev for BG counts =  2.0215188501565997\n"
          ]
        }
      ]
    },
    {
      "cell_type": "code",
      "source": [
        "y_poiss_var = (np.sum((y - y_bar)**2)/(len(y) - 1))\n",
        "print(\"Variance of background counts is \", y_poiss_var) # experimental var (Poisson)\n",
        "\n",
        "y_poiss_std_dev = np.sqrt(np.sum((y - y_bar)**2)/(len(y) - 1))\n",
        "print(\"Std. Dev of background counts is \", y_poiss_std_dev) # experimental std dev (Poisson)"
      ],
      "metadata": {
        "colab": {
          "base_uri": "https://localhost:8080/"
        },
        "id": "T1v-JqPVmqHA",
        "outputId": "9108bd6c-9f87-474b-e389-dd1e8cffc6f2"
      },
      "execution_count": null,
      "outputs": [
        {
          "output_type": "stream",
          "name": "stdout",
          "text": [
            "Variance of background counts is  19.13311298076923\n",
            "Std. Dev of background counts is  4.374141399265601\n"
          ]
        }
      ]
    },
    {
      "cell_type": "markdown",
      "source": [
        "## Gaussian Dist\n"
      ],
      "metadata": {
        "id": "IfGZ2Gqnkng8"
      }
    },
    {
      "cell_type": "code",
      "source": [
        "y_gauss = np.array([1037,964,1026,1014,1009,1016,1049,1026,1044,985,1005,956,1022,1012,1033,1022,1016,985,1019,1026,1002,971,1000,1027,1017,1000,1000,1039,1031,991,999,1051,1044,979,1024,1013,1013,1033,1034,1021,1025,980,1026,975,982,1014,1025,993,1006,1008,997,1032,1019,1026,1020,1042,1033,1045,989,1030,1021,1029,1016,1028,991,1026,989,1004,1012,996,1002,1068,1007,1034,1004,1014,1004,980,1039,1019,1009,1043,1038,999,1006,1027,988,997,1005,1026,1001,1045,1041,1025,1043,1013,1024,976,984,1003])"
      ],
      "metadata": {
        "id": "wuDjiA07ksiP"
      },
      "execution_count": null,
      "outputs": []
    },
    {
      "cell_type": "code",
      "source": [
        "y_gauss_mean = np.sum(y_gauss)/len(y_gauss)\n",
        "print(\"Mean of Cs-137 counts is \", y_gauss_mean) # experimental mean\n",
        "\n",
        "y_gauss_var = (np.sum((y_gauss - y_gauss_mean)**2)/(len(y_gauss) - 1))\n",
        "print(\"Var of Cs-137 counts is \", y_gauss_var) # experimental variance (Gaussian)\n",
        "\n",
        "y_gauss_std_dev = np.sqrt(np.sum((y_gauss - y_gauss_mean)**2)/(len(y_gauss) - 1))\n",
        "print(\"Std. Dev of Cs-137 counts is \", y_gauss_std_dev) # experimental std. dev (Gaussian)"
      ],
      "metadata": {
        "colab": {
          "base_uri": "https://localhost:8080/"
        },
        "id": "ZF5Rssd6lcTe",
        "outputId": "e33f4f8a-3d43-49b5-b361-612ffbefa3b4"
      },
      "execution_count": null,
      "outputs": [
        {
          "output_type": "stream",
          "name": "stdout",
          "text": [
            "Mean of Cs-137 counts is  1013.98\n",
            "Var of Cs-137 counts is  451.7369696969696\n",
            "Std. Dev of Cs-137 counts is  21.254104772889626\n"
          ]
        }
      ]
    },
    {
      "cell_type": "markdown",
      "source": [
        "Variance\t$s^2$ =\t451.73697\n",
        "\n",
        "Standard Deviation\ts =\t21.254105\n",
        "\n",
        "Count\tn =\t100\n",
        "\n",
        "Mean\t$y_{mean}$=\t1013.98\n",
        "\n",
        "Sum of Squares\tSS =\t44721.96\n"
      ],
      "metadata": {
        "id": "VT8qPRKjktYF"
      }
    },
    {
      "cell_type": "markdown",
      "source": [
        "## Absorption Coeffs"
      ],
      "metadata": {
        "id": "2QkcqTBLoHvn"
      }
    },
    {
      "cell_type": "markdown",
      "source": [
        "### Al\n"
      ],
      "metadata": {
        "id": "qTizV2P3oLrM"
      }
    },
    {
      "cell_type": "code",
      "source": [
        "Na = 6.023*10**26\n",
        "\n",
        "ne_Al = 13 * (2.7 * 10**3) * Na / 27\n",
        "print(\"For Al, no. of electrons per unit volume n_e = \", ne_Al)\n",
        "\n",
        "mu_Al = (2.466+0.86)/2\n",
        "cross_section_Al = mu_Al/ne_Al\n",
        "print(\"Cross section for Al = \", cross_section_Al * 10**28, \"barn\")"
      ],
      "metadata": {
        "colab": {
          "base_uri": "https://localhost:8080/"
        },
        "id": "TaZ0_aQfoNXX",
        "outputId": "833bc6bb-3cf2-4ef6-81a9-c58562ed7bbc"
      },
      "execution_count": null,
      "outputs": [
        {
          "output_type": "stream",
          "name": "stdout",
          "text": [
            "For Al, no. of electrons per unit volume n_e =  7.8299e+29\n",
            "Cross section for Al =  0.021239096284754597 barn\n"
          ]
        }
      ]
    },
    {
      "cell_type": "markdown",
      "source": [
        "### Cu"
      ],
      "metadata": {
        "id": "pOar09OxoyAT"
      }
    },
    {
      "cell_type": "code",
      "source": [
        "ne_Cu = 29 * (8.92 * 10**3) * Na / 63.5\n",
        "print(\"For Cu, no. of electrons per unit volume n_e = \", ne_Cu)\n",
        "\n",
        "mu_Cu = (1.703+4.294)/2\n",
        "cross_section_Cu = mu_Cu/ne_Cu\n",
        "print(\"Cross section for Cu = \", cross_section_Cu * 10**28, \"barn\")"
      ],
      "metadata": {
        "colab": {
          "base_uri": "https://localhost:8080/"
        },
        "id": "ac39ZvLTo0YF",
        "outputId": "529c4b11-076f-40ac-a6f5-0aa0c12e6bbc"
      },
      "execution_count": null,
      "outputs": [
        {
          "output_type": "stream",
          "name": "stdout",
          "text": [
            "For Cu, no. of electrons per unit volume n_e =  2.4535899842519685e+30\n",
            "Cross section for Cu =  0.012220868275651033 barn\n"
          ]
        }
      ]
    }
  ]
}
